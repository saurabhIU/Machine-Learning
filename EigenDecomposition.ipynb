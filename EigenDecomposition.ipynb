{
 "cells": [
  {
   "cell_type": "markdown",
   "metadata": {},
   "source": [
    "#  Assignment 1 - Problem 4 "
   ]
  },
  {
   "cell_type": "code",
   "execution_count": 160,
   "metadata": {},
   "outputs": [],
   "source": [
    "import scipy.io\n",
    "import matplotlib.pyplot as plt\n",
    "import pandas as pd"
   ]
  },
  {
   "cell_type": "markdown",
   "metadata": {},
   "source": [
    "** Load Data **"
   ]
  },
  {
   "cell_type": "code",
   "execution_count": 161,
   "metadata": {},
   "outputs": [],
   "source": [
    "mat = scipy.io.loadmat('flute.mat')"
   ]
  },
  {
   "cell_type": "code",
   "execution_count": 162,
   "metadata": {},
   "outputs": [
    {
     "data": {
      "text/plain": [
       "{'X': array([[2.22044605e-16, 1.29702136e-05, 1.57052630e-04, ...,\n",
       "         1.15280264e-04, 8.74255521e-05, 1.63280736e-05],\n",
       "        [2.22044605e-16, 1.28594425e-05, 1.39508796e-04, ...,\n",
       "         1.05180419e-04, 7.60410604e-05, 1.63024617e-05],\n",
       "        [2.22044605e-16, 1.25292292e-05, 9.62568371e-05, ...,\n",
       "         2.03686930e-05, 6.45660177e-05, 1.62111290e-05],\n",
       "        ...,\n",
       "        [2.22044605e-16, 2.12818388e-06, 1.39222966e-05, ...,\n",
       "         6.50457997e-04, 7.28590830e-04, 7.49211070e-05],\n",
       "        [2.22044605e-16, 1.07489520e-06, 1.47249087e-05, ...,\n",
       "         2.32560534e-03, 1.09566897e-03, 7.82090463e-05],\n",
       "        [2.22044605e-16, 2.44390213e-07, 1.34338008e-05, ...,\n",
       "         3.36811451e-03, 1.25064417e-03, 7.93443075e-05]]),\n",
       " '__globals__': [],\n",
       " '__header__': b'MATLAB 5.0 MAT-file, Platform: MACI64, Created on: Mon Aug 27 17:34:15 2018',\n",
       " '__version__': '1.0'}"
      ]
     },
     "execution_count": 162,
     "metadata": {},
     "output_type": "execute_result"
    }
   ],
   "source": [
    "mat"
   ]
  },
  {
   "cell_type": "code",
   "execution_count": 163,
   "metadata": {},
   "outputs": [
    {
     "data": {
      "text/plain": [
       "(513, 73)"
      ]
     },
     "execution_count": 163,
     "metadata": {},
     "output_type": "execute_result"
    }
   ],
   "source": [
    "flute=mat[\"X\"]\n",
    "flute.shape"
   ]
  },
  {
   "cell_type": "code",
   "execution_count": 164,
   "metadata": {},
   "outputs": [
    {
     "data": {
      "image/png": "[encoded data removed]",
      "text/plain": [
       "<matplotlib.figure.Figure at 0x123f29f98>"
      ]
     },
     "metadata": {},
     "output_type": "display_data"
    }
   ],
   "source": [
    "plt.imshow(flute,aspect='auto',cmap='bwr');\n",
    "plt.colorbar()\n",
    "plt.show()"
   ]
  },
  {
   "cell_type": "markdown",
   "metadata": {},
   "source": [
    "** Problem 4.1. Write your own power iteration routine that calculates the eigenvector one by one **"
   ]
  },
  {
   "cell_type": "markdown",
   "metadata": {},
   "source": [
    "### Following function with take a symmetric matrix as input and output most dominant igenvalue and corresponding eigen vector."
   ]
  },
  {
   "cell_type": "code",
   "execution_count": 165,
   "metadata": {},
   "outputs": [],
   "source": [
    "import numpy as np\n",
    "\n",
    "def eigenvalue(A, v):\n",
    "    \n",
    "    Av = A.dot(v)\n",
    "    v_new = Av / np.linalg.norm(Av)\n",
    "    return v_new,np.linalg.norm(Av)\n",
    "\n",
    "def power_iteration(A):\n",
    "    n, d = A.shape\n",
    "    v=np.random.rand(d,1)\n",
    "    print(v.shape)\n",
    "    ev,eigen_value = eigenvalue(A, v)\n",
    "    count = 0\n",
    "    while True:\n",
    "        ev_new,eigen_value_new = eigenvalue(A, ev)\n",
    "        print(np.abs(eigen_value - eigen_value_new))\n",
    "        if np.abs(eigen_value - eigen_value_new) < 0.01:\n",
    "            break\n",
    "        ev = ev_new\n",
    "        eigen_value = eigen_value_new\n",
    "        count +=1\n",
    "        print (f'Iteration {count} completed')\n",
    "    print(f'Eigen Vector found in {count+1} iterations')  \n",
    "    return ev_new, eigen_value_new"
   ]
  },
  {
   "cell_type": "code",
   "execution_count": 166,
   "metadata": {},
   "outputs": [
    {
     "data": {
      "text/plain": [
       "array([[2.22044605e-16, 1.29702136e-05, 1.57052630e-04, ...,\n",
       "        1.15280264e-04, 8.74255521e-05, 1.63280736e-05],\n",
       "       [2.22044605e-16, 1.28594425e-05, 1.39508796e-04, ...,\n",
       "        1.05180419e-04, 7.60410604e-05, 1.63024617e-05],\n",
       "       [2.22044605e-16, 1.25292292e-05, 9.62568371e-05, ...,\n",
       "        2.03686930e-05, 6.45660177e-05, 1.62111290e-05],\n",
       "       ...,\n",
       "       [2.22044605e-16, 2.12818388e-06, 1.39222966e-05, ...,\n",
       "        6.50457997e-04, 7.28590830e-04, 7.49211070e-05],\n",
       "       [2.22044605e-16, 1.07489520e-06, 1.47249087e-05, ...,\n",
       "        2.32560534e-03, 1.09566897e-03, 7.82090463e-05],\n",
       "       [2.22044605e-16, 2.44390213e-07, 1.34338008e-05, ...,\n",
       "        3.36811451e-03, 1.25064417e-03, 7.93443075e-05]])"
      ]
     },
     "execution_count": 166,
     "metadata": {},
     "output_type": "execute_result"
    }
   ],
   "source": [
    "flute"
   ]
  },
  {
   "cell_type": "markdown",
   "metadata": {},
   "source": [
    "** Problem 4.3 Compute the sample covariance matrix out of them. It must be a 513 X 513 symmetric matrix. **"
   ]
  },
  {
   "cell_type": "code",
   "execution_count": 167,
   "metadata": {},
   "outputs": [],
   "source": [
    "import numpy as np\n",
    "\n",
    "\n",
    "def covariencematrix(m):\n",
    "    n, d = m.shape\n",
    "    print(f'n = {n}')\n",
    "    print(f'd = {d}')\n",
    "    print(f'shape of A is {m.shape}')\n",
    "    mean = m.mean(axis=1).reshape(n,1)\n",
    "    print(f'shape of mean = {mean.shape}')\n",
    "    m = m-mean\n",
    "    dot_prod = np.dot(m,m.T)\n",
    "    \n",
    "    return dot_prod/(d-1)\n",
    "    "
   ]
  },
  {
   "cell_type": "markdown",
   "metadata": {},
   "source": [
    "### Lets calculate the co-varience matrix of s from the function covariencematrix"
   ]
  },
  {
   "cell_type": "code",
   "execution_count": 168,
   "metadata": {},
   "outputs": [
    {
     "name": "stdout",
     "output_type": "stream",
     "text": [
      "n = 513\n",
      "d = 73\n",
      "shape of A is (513, 73)\n",
      "shape of mean = (513, 1)\n"
     ]
    },
    {
     "data": {
      "text/plain": [
       "(513, 513)"
      ]
     },
     "execution_count": 168,
     "metadata": {},
     "output_type": "execute_result"
    }
   ],
   "source": [
    "cov_mat=covariencematrix(flute)\n",
    "cov_mat.shape"
   ]
  },
  {
   "cell_type": "code",
   "execution_count": 169,
   "metadata": {},
   "outputs": [
    {
     "name": "stdout",
     "output_type": "stream",
     "text": [
      "True\n"
     ]
    }
   ],
   "source": [
    "print(np.allclose(np.cov(flute),cov_mat))"
   ]
  },
  {
   "cell_type": "markdown",
   "metadata": {},
   "source": [
    "** Problem 4.3 Learn two eigenvectors from this by using your power iteration routine **"
   ]
  },
  {
   "cell_type": "markdown",
   "metadata": {},
   "source": [
    "### Calculate first Eigen vector and corresponding eigen value\n",
    "\n",
    "Eigenvectors correspond to the left singular vectors once the input matrix of the eigendecomposition is the covariance matrix"
   ]
  },
  {
   "cell_type": "code",
   "execution_count": 170,
   "metadata": {},
   "outputs": [
    {
     "name": "stdout",
     "output_type": "stream",
     "text": [
      "(513, 1)\n",
      "333.81286834966704\n",
      "Iteration 1 completed\n",
      "80.11502261069836\n",
      "Iteration 2 completed\n",
      "1.686141267725361\n",
      "Iteration 3 completed\n",
      "0.03445240736982669\n",
      "Iteration 4 completed\n",
      "0.0007035100479697576\n",
      "Eigen Vector found in 5 iterations\n",
      "First Eigen Value is 4102.098915481698\n"
     ]
    }
   ],
   "source": [
    "first_eigen_vector, first_eigen_value = power_iteration(cov_mat)\n",
    "print(f'First Eigen Value is {first_eigen_value}')"
   ]
  },
  {
   "cell_type": "markdown",
   "metadata": {},
   "source": [
    "Now as per the formula,\n",
    "\\begin{equation*}\n",
    "\\ A = \n",
    "\\mathbf{v}_1 \\mathbf{s}_1 \\mathbf{u}_1^T + [v2,v3,v4....v_k] .  \\begin{vmatrix}\n",
    "\\mathbf{s}_1 & \\mathbf0 & \\mathbf0 \\\\\n",
    "\\mathbf0 & \\mathbf{s}_1  & \\mathbf0 \\\\\n",
    "\\mathbf{s}_1 & \\mathbf0 & \\mathbf{s}_1\n",
    "\\end{vmatrix}\n",
    "\\end{equation*}\n",
    "\n",
    "As we have got first Eigen Value and Eigen Vector, lets subtract the first part from A and call power Iteration for second Eigen value and vector,\n",
    "\n",
    "\\begin{equation*}\n",
    "\\ A - \n",
    "\\mathbf{v}_1 \\mathbf{s}_1 \\mathbf{u}_1^T = [v2,v3,v4....v_k] .  \\begin{vmatrix}\n",
    "\\mathbf{s}_1 & \\mathbf0 & \\mathbf0 \\\\\n",
    "\\mathbf0 & \\mathbf{s}_1  & \\mathbf0 \\\\\n",
    "\\mathbf{s}_1 & \\mathbf0 & \\mathbf{s}_1\n",
    "\\end{vmatrix}\n",
    "\\end{equation*}\n",
    "\n",
    "\n",
    "$ u_i = A^T v_i/s_i $\n",
    "        "
   ]
  },
  {
   "cell_type": "markdown",
   "metadata": {},
   "source": [
    "### Calculate second Eigen value and second Eigen vector,"
   ]
  },
  {
   "cell_type": "markdown",
   "metadata": {},
   "source": [
    " $ \\textbf {Step 1: Calculate  }u_i $"
   ]
  },
  {
   "cell_type": "code",
   "execution_count": 171,
   "metadata": {},
   "outputs": [],
   "source": [
    "ui = cov_mat.T.dot(first_eigen_vector/first_eigen_value)"
   ]
  },
  {
   "cell_type": "markdown",
   "metadata": {},
   "source": [
    "$ \\textbf {Step 2: Calculate new covariance matrix to be feeded to Power Iteration routine} $"
   ]
  },
  {
   "cell_type": "code",
   "execution_count": 172,
   "metadata": {},
   "outputs": [],
   "source": [
    "new_cov_mat = cov_mat - ((first_eigen_vector*first_eigen_value).dot(ui.T))"
   ]
  },
  {
   "cell_type": "markdown",
   "metadata": {},
   "source": [
    "$ \\textbf{ Step 3: Calculate second Eigen vector and corresponding eigen value} $"
   ]
  },
  {
   "cell_type": "code",
   "execution_count": 173,
   "metadata": {},
   "outputs": [
    {
     "name": "stdout",
     "output_type": "stream",
     "text": [
      "(513, 1)\n",
      "251.15890893918333\n",
      "Iteration 1 completed\n",
      "0.46266350816495105\n",
      "Iteration 2 completed\n",
      "0.0003519001795666554\n",
      "Eigen Vector found in 3 iterations\n",
      "second Eigen Value is 586.176801190564\n"
     ]
    }
   ],
   "source": [
    "second_eigen_vector, second_eigen_value = power_iteration(new_cov_mat)\n",
    "print(f'second Eigen Value is {second_eigen_value}')"
   ]
  },
  {
   "cell_type": "markdown",
   "metadata": {},
   "source": [
    "### Plot your eigenvectors and put them on your report along with the X matrix."
   ]
  },
  {
   "cell_type": "code",
   "execution_count": 174,
   "metadata": {},
   "outputs": [],
   "source": [
    "left_singular_matrix = np.hstack((first_eigen_vector,second_eigen_vector))\n"
   ]
  },
  {
   "cell_type": "code",
   "execution_count": 175,
   "metadata": {},
   "outputs": [
    {
     "data": {
      "image/png": "[encoded data removed]",
      "text/plain": [
       "<matplotlib.figure.Figure at 0x123f29c88>"
      ]
     },
     "metadata": {},
     "output_type": "display_data"
    }
   ],
   "source": [
    "plt.imshow(left_singular_matrix,cmap='bwr',aspect='auto');\n",
    "plt.colorbar()\n",
    "plt.show()"
   ]
  },
  {
   "cell_type": "markdown",
   "metadata": {},
   "source": [
    "** Problem 4.4 Now you know the representative spectra for the two notes. How would you recover their temporal activation? They will be two row vectors for the two notes, respectively. You need to show me how to calculate these activation vectors in equations. Plot the activation (row) vectors you got from this procedure in the report.**"
   ]
  },
  {
   "cell_type": "markdown",
   "metadata": {},
   "source": [
    "** Temporal Activation would be obtained by $ A^T v_d/s_d $ **"
   ]
  },
  {
   "cell_type": "code",
   "execution_count": 176,
   "metadata": {},
   "outputs": [],
   "source": [
    "rec_temp1 = np.dot(flute.T,(first_eigen_vector/first_eigen_value))\n",
    "rec_temp2 = np.dot(flute.T,(second_eigen_vector/second_eigen_value))"
   ]
  },
  {
   "cell_type": "code",
   "execution_count": 177,
   "metadata": {},
   "outputs": [
    {
     "data": {
      "image/png": "[encoded data removed]",
      "text/plain": [
       "<matplotlib.figure.Figure at 0x1241e4518>"
      ]
     },
     "metadata": {},
     "output_type": "display_data"
    }
   ],
   "source": [
    "right_singular_matrix = np.vstack((rec_temp1.T,rec_temp2.T))\n",
    "plt.imshow(right_singular_matrix,cmap = 'bwr', aspect='5')\n",
    "plt.colorbar()\n",
    "plt.show()"
   ]
  },
  {
   "cell_type": "markdown",
   "metadata": {},
   "source": [
    "\\begin{equation*}\n",
    "\\ A = \n",
    "\\ [v1,v2,...v_d] .  \\begin{vmatrix}\n",
    "\\mathbf{s}_1 & \\mathbf0 & \\mathbf0 \\\\\n",
    "\\mathbf0 & \\mathbf{s}_2  & \\mathbf0 \\\\\n",
    "\\mathbf{s}_1 & \\mathbf0 & \\mathbf{s}_d \n",
    "\\end{vmatrix}\n",
    "\\ . \\begin{vmatrix}\n",
    "\\mathbf{u}_1^T \\\\\n",
    "\\mathbf{u}_2^T \\\\ \n",
    "\\mathbf{u}_d^T\n",
    "\\end{vmatrix}\n",
    "\\end{equation*}\n"
   ]
  },
  {
   "cell_type": "code",
   "execution_count": 178,
   "metadata": {},
   "outputs": [
    {
     "data": {
      "text/plain": [
       "array([[4102.09891548,    0.        ],\n",
       "       [   0.        ,  586.17680119]])"
      ]
     },
     "execution_count": 178,
     "metadata": {},
     "output_type": "execute_result"
    }
   ],
   "source": [
    "s = np.diag(np.array([first_eigen_value,second_eigen_value]))\n",
    "s"
   ]
  },
  {
   "cell_type": "code",
   "execution_count": 179,
   "metadata": {},
   "outputs": [],
   "source": [
    "reconstruct_freq = np.dot(np.dot(left_singular_matrix,s),right_singular_matrix)"
   ]
  },
  {
   "cell_type": "code",
   "execution_count": 180,
   "metadata": {},
   "outputs": [
    {
     "data": {
      "image/png": "[encoded data removed]",
      "text/plain": [
       "<matplotlib.figure.Figure at 0x123e9fa58>"
      ]
     },
     "metadata": {},
     "output_type": "display_data"
    }
   ],
   "source": [
    "plt.imshow(reconstruct_freq,aspect='auto',cmap='bwr')\n",
    "plt.colorbar()\n",
    "plt.show()"
   ]
  },
  {
   "cell_type": "code",
   "execution_count": 181,
   "metadata": {},
   "outputs": [
    {
     "data": {
      "text/plain": [
       "(513, 73)"
      ]
     },
     "execution_count": 181,
     "metadata": {},
     "output_type": "execute_result"
    }
   ],
   "source": [
    "reconstruct_freq.shape"
   ]
  },
  {
   "cell_type": "code",
   "execution_count": 182,
   "metadata": {},
   "outputs": [
    {
     "data": {
      "text/plain": [
       "0.05236130814460967"
      ]
     },
     "execution_count": 182,
     "metadata": {},
     "output_type": "execute_result"
    }
   ],
   "source": [
    "rec_err1 = (flute - reconstruct_freq)\n",
    "mse1 = ((rec_err1 ** 2).mean(axis=None))\n",
    "mse1"
   ]
  },
  {
   "cell_type": "code",
   "execution_count": 183,
   "metadata": {},
   "outputs": [
    {
     "data": {
      "text/html": [
       "<div>\n",
       "<style scoped>\n",
       "    .dataframe tbody tr th:only-of-type {\n",
       "        vertical-align: middle;\n",
       "    }\n",
       "\n",
       "    .dataframe tbody tr th {\n",
       "        vertical-align: top;\n",
       "    }\n",
       "\n",
       "    .dataframe thead th {\n",
       "        text-align: right;\n",
       "    }\n",
       "</style>\n",
       "<table border=\"1\" class=\"dataframe\">\n",
       "  <thead>\n",
       "    <tr style=\"text-align: right;\">\n",
       "      <th></th>\n",
       "      <th>Approach</th>\n",
       "      <th>MSE</th>\n",
       "    </tr>\n",
       "  </thead>\n",
       "  <tbody>\n",
       "    <tr>\n",
       "      <th>0</th>\n",
       "      <td>Method_1</td>\n",
       "      <td>0.052361</td>\n",
       "    </tr>\n",
       "  </tbody>\n",
       "</table>\n",
       "</div>"
      ],
      "text/plain": [
       "   Approach       MSE\n",
       "0  Method_1  0.052361"
      ]
     },
     "execution_count": 183,
     "metadata": {},
     "output_type": "execute_result"
    }
   ],
   "source": [
    "recons_error= pd.DataFrame(columns=[\"Approach\", \"MSE\"])\n",
    "recons_error.loc[len(recons_error)] = [\"Method_1\", mse1]\n",
    "recons_error"
   ]
  },
  {
   "cell_type": "markdown",
   "metadata": {},
   "source": [
    "** Problem 4.5 : Another alternative approach would be to calculate the covariance matrixout of $ X^T $ , which will give you a 73 X 73 matrix. By doing so, you can say that you have 513 observed samples, each of which has 73 dimensions. Perform power iteration twice to get the two eigenvectors. They should correspond to the temporal activations you calculated in the previous question, but this time you got them in a different way. How would you get the representative spectra this time? **"
   ]
  },
  {
   "cell_type": "markdown",
   "metadata": {},
   "source": [
    "** Calculate the covariance matrix out of $ X^T $ , which will give you a 73 X 73 matrix **"
   ]
  },
  {
   "cell_type": "code",
   "execution_count": 184,
   "metadata": {},
   "outputs": [
    {
     "name": "stdout",
     "output_type": "stream",
     "text": [
      "n = 73\n",
      "d = 513\n",
      "shape of A is (73, 513)\n",
      "shape of mean = (73, 1)\n"
     ]
    },
    {
     "data": {
      "text/plain": [
       "(73, 73)"
      ]
     },
     "execution_count": 184,
     "metadata": {},
     "output_type": "execute_result"
    }
   ],
   "source": [
    "flute_cov_tp = covariencematrix(flute.T)\n",
    "flute_cov_tp.shape"
   ]
  },
  {
   "cell_type": "code",
   "execution_count": 185,
   "metadata": {},
   "outputs": [
    {
     "data": {
      "text/plain": [
       "array([[0.00000000e+00, 0.00000000e+00, 0.00000000e+00, ...,\n",
       "        0.00000000e+00, 0.00000000e+00, 0.00000000e+00],\n",
       "       [0.00000000e+00, 5.67733425e-10, 1.91616245e-08, ...,\n",
       "        4.33686794e-08, 1.57130792e-08, 1.59779526e-09],\n",
       "       [0.00000000e+00, 1.91616245e-08, 9.93836775e-07, ...,\n",
       "        6.13013523e-07, 3.30323785e-07, 4.85588027e-08],\n",
       "       ...,\n",
       "       [0.00000000e+00, 4.33686794e-08, 6.13013523e-07, ...,\n",
       "        1.71114314e-05, 4.35028675e-06, 2.27279787e-07],\n",
       "       [0.00000000e+00, 1.57130792e-08, 3.30323785e-07, ...,\n",
       "        4.35028675e-06, 1.26988861e-06, 8.07974396e-08],\n",
       "       [0.00000000e+00, 1.59779526e-09, 4.85588027e-08, ...,\n",
       "        2.27279787e-07, 8.07974396e-08, 7.81014978e-09]])"
      ]
     },
     "execution_count": 185,
     "metadata": {},
     "output_type": "execute_result"
    }
   ],
   "source": [
    "flute_cov_tp"
   ]
  },
  {
   "cell_type": "markdown",
   "metadata": {},
   "source": [
    "### Calculate first temporal activation vector and corresponding temporal activation value\n",
    "\n"
   ]
  },
  {
   "cell_type": "code",
   "execution_count": 186,
   "metadata": {},
   "outputs": [
    {
     "name": "stdout",
     "output_type": "stream",
     "text": [
      "(73, 1)\n",
      "829.8639391119735\n",
      "Iteration 1 completed\n",
      "27.686204346671957\n",
      "Iteration 2 completed\n",
      "1.981709912080305\n",
      "Iteration 3 completed\n",
      "0.13288825523500236\n",
      "Iteration 4 completed\n",
      "0.008870759569845177\n",
      "Eigen Vector found in 5 iterations\n",
      "First Temporal Value of transposed matrix A is 715.2420374708651\n"
     ]
    }
   ],
   "source": [
    "temp_vector1, temp_value1 = power_iteration(flute_cov_tp)\n",
    "print(f'First Temporal Value of transposed matrix A is {first_eigen_value_t}')"
   ]
  },
  {
   "cell_type": "markdown",
   "metadata": {},
   "source": [
    "Now as per the formula,\n",
    "\\begin{equation*}\n",
    "\\ A = \n",
    "\\mathbf{v}_1 \\mathbf{s}_1 \\mathbf{u}_1^T + [v2,v3,v4....v_k] .  \\begin{vmatrix}\n",
    "\\mathbf{s}_1 & \\mathbf0 & \\mathbf0 \\\\\n",
    "\\mathbf0 & \\mathbf{s}_1  & \\mathbf0 \\\\\n",
    "\\mathbf{s}_1 & \\mathbf0 & \\mathbf{s}_1\n",
    "\\end{vmatrix}\n",
    "\\end{equation*}\n",
    "\n",
    "Now as we have got first Igen Value and Igen Vector, lets subtract the first part from A and call power Iteration for second Igen value and vector,\n",
    "\n",
    "\\begin{equation*}\n",
    "\\ A - \n",
    "\\mathbf{v}_1 \\mathbf{s}_1 \\mathbf{u}_1^T = [v2,v3,v4....v_k] .  \\begin{vmatrix}\n",
    "\\mathbf{s}_1 & \\mathbf0 & \\mathbf0 \\\\\n",
    "\\mathbf0 & \\mathbf{s}_1  & \\mathbf0 \\\\\n",
    "\\mathbf{s}_1 & \\mathbf0 & \\mathbf{s}_1\n",
    "\\end{vmatrix}\n",
    "\\end{equation*}\n",
    "\n",
    "\n",
    "$ u_i = A^T v_i/s_i $"
   ]
  },
  {
   "cell_type": "markdown",
   "metadata": {},
   "source": [
    "#### Calculate second Temporal Activation value and second Temporal Activation  vector,"
   ]
  },
  {
   "cell_type": "markdown",
   "metadata": {},
   "source": [
    "  ** Step 1: Calculate  temp_u_1 **"
   ]
  },
  {
   "cell_type": "code",
   "execution_count": 187,
   "metadata": {},
   "outputs": [],
   "source": [
    "temp_u_1 = flute_cov_tp.T.dot(temp_vector1/temp_value1)"
   ]
  },
  {
   "cell_type": "markdown",
   "metadata": {},
   "source": [
    "$ \\textbf {Step 2: Calculate new covariance matrix to be feeded to Power Iteration routine} $"
   ]
  },
  {
   "cell_type": "code",
   "execution_count": 188,
   "metadata": {},
   "outputs": [],
   "source": [
    "new_cov_mat = flute_cov_tp - ((temp_vector1*temp_value1).dot(temp_u_1.T))"
   ]
  },
  {
   "cell_type": "markdown",
   "metadata": {},
   "source": [
    "$ \\textbf{ Step 3: Calculate second Temporal activation vector and corresponding Temporal activation value} $"
   ]
  },
  {
   "cell_type": "code",
   "execution_count": 189,
   "metadata": {},
   "outputs": [
    {
     "name": "stdout",
     "output_type": "stream",
     "text": [
      "(73, 1)\n",
      "353.0209891046612\n",
      "Iteration 1 completed\n",
      "5.0425148430122135e-05\n",
      "Eigen Vector found in 2 iterations\n",
      "Second Temporal Value of transposed matrix A is 184.7649586811092\n"
     ]
    }
   ],
   "source": [
    "temp_vector2, temp_value2 = power_iteration(new_cov_mat)\n",
    "print(f'Second Temporal Value of transposed matrix A is {temp_value2}')"
   ]
  },
  {
   "cell_type": "code",
   "execution_count": 190,
   "metadata": {},
   "outputs": [],
   "source": [
    "temp_u_2 = flute_cov_tp.T.dot(temp_vector2/temp_value2)"
   ]
  },
  {
   "cell_type": "code",
   "execution_count": 191,
   "metadata": {},
   "outputs": [
    {
     "data": {
      "text/plain": [
       "(2, 73)"
      ]
     },
     "execution_count": 191,
     "metadata": {},
     "output_type": "execute_result"
    }
   ],
   "source": [
    "temp_activation = np.vstack((temp_vector1.T,temp_vector2.T))\n",
    "temp_activation.shape"
   ]
  },
  {
   "cell_type": "markdown",
   "metadata": {},
   "source": [
    "** How would you get the representative spectra this time? **"
   ]
  },
  {
   "cell_type": "code",
   "execution_count": 193,
   "metadata": {},
   "outputs": [
    {
     "data": {
      "text/plain": [
       "(513, 1)"
      ]
     },
     "execution_count": 193,
     "metadata": {},
     "output_type": "execute_result"
    }
   ],
   "source": [
    "rec_freq1 = np.dot(flute,temp_vector1)/temp_value1\n",
    "rec_freq2 = np.dot(flute,temp_vector2)/temp_value2\n",
    "rec_freq1.shape"
   ]
  },
  {
   "cell_type": "code",
   "execution_count": 194,
   "metadata": {},
   "outputs": [
    {
     "data": {
      "text/plain": [
       "(513, 2)"
      ]
     },
     "execution_count": 194,
     "metadata": {},
     "output_type": "execute_result"
    }
   ],
   "source": [
    "left_singular_mat2 = np.hstack((rec_freq1,rec_freq2))\n",
    "left_singular_mat2.shape"
   ]
  },
  {
   "cell_type": "code",
   "execution_count": 195,
   "metadata": {},
   "outputs": [
    {
     "data": {
      "text/plain": [
       "array([[715.24146232,   0.        ],\n",
       "       [  0.        , 184.76495868]])"
      ]
     },
     "execution_count": 195,
     "metadata": {},
     "output_type": "execute_result"
    }
   ],
   "source": [
    "s2 = np.diag(np.array([temp_value1,temp_value2]))\n",
    "s2"
   ]
  },
  {
   "cell_type": "code",
   "execution_count": 196,
   "metadata": {},
   "outputs": [],
   "source": [
    "reconstruct_freq2 = np.dot(np.dot(left_singular_mat2,s2),temp_activation)"
   ]
  },
  {
   "cell_type": "code",
   "execution_count": 197,
   "metadata": {},
   "outputs": [
    {
     "data": {
      "image/png": "[encoded data removed]",
      "text/plain": [
       "<matplotlib.figure.Figure at 0x123df8ef0>"
      ]
     },
     "metadata": {},
     "output_type": "display_data"
    }
   ],
   "source": [
    "plt.imshow(reconstruct_freq2,aspect='auto',cmap='bwr')\n",
    "plt.colorbar()\n",
    "plt.show()"
   ]
  },
  {
   "cell_type": "code",
   "execution_count": 198,
   "metadata": {},
   "outputs": [
    {
     "data": {
      "text/plain": [
       "0.05017449498464332"
      ]
     },
     "execution_count": 198,
     "metadata": {},
     "output_type": "execute_result"
    }
   ],
   "source": [
    "rec_err2 = (flute - reconstruct_freq2)\n",
    "mse2 = ((rec_err2 ** 2).mean(axis=None))\n",
    "mse2"
   ]
  },
  {
   "cell_type": "code",
   "execution_count": 199,
   "metadata": {},
   "outputs": [
    {
     "data": {
      "text/html": [
       "<div>\n",
       "<style scoped>\n",
       "    .dataframe tbody tr th:only-of-type {\n",
       "        vertical-align: middle;\n",
       "    }\n",
       "\n",
       "    .dataframe tbody tr th {\n",
       "        vertical-align: top;\n",
       "    }\n",
       "\n",
       "    .dataframe thead th {\n",
       "        text-align: right;\n",
       "    }\n",
       "</style>\n",
       "<table border=\"1\" class=\"dataframe\">\n",
       "  <thead>\n",
       "    <tr style=\"text-align: right;\">\n",
       "      <th></th>\n",
       "      <th>Approach</th>\n",
       "      <th>MSE</th>\n",
       "    </tr>\n",
       "  </thead>\n",
       "  <tbody>\n",
       "    <tr>\n",
       "      <th>0</th>\n",
       "      <td>Method_1</td>\n",
       "      <td>0.052361</td>\n",
       "    </tr>\n",
       "    <tr>\n",
       "      <th>1</th>\n",
       "      <td>Method_2</td>\n",
       "      <td>0.050174</td>\n",
       "    </tr>\n",
       "  </tbody>\n",
       "</table>\n",
       "</div>"
      ],
      "text/plain": [
       "   Approach       MSE\n",
       "0  Method_1  0.052361\n",
       "1  Method_2  0.050174"
      ]
     },
     "execution_count": 199,
     "metadata": {},
     "output_type": "execute_result"
    }
   ],
   "source": [
    "recons_error.loc[len(recons_error)] = [\"Method_2\", mse2]\n",
    "recons_error"
   ]
  },
  {
   "cell_type": "markdown",
   "metadata": {},
   "source": [
    "** Problem 6. Out of the two approaches, i.e. doing eigendecomposition on the original data matrix and its transposed version, which do you prefer? Explain your preference. I need a clear reason. **"
   ]
  },
  {
   "cell_type": "markdown",
   "metadata": {},
   "source": [
    "As we can see above, that MSE in case of method 2 is little bit lesser than method 1. Also we got temporal activation pretty easily directly from Eigen vectors. In method 1 temporal activations were calculated from representative spectra. Hence I think temporal activations were easily reconstructed in method 2 and also better though significantly less MSE. So, I would prefer method 2."
   ]
  }
 ],
 "metadata": {
  "kernelspec": {
   "display_name": "Python 3",
   "language": "python",
   "name": "python3"
  },
  "language_info": {
   "codemirror_mode": {
    "name": "ipython",
    "version": 3
   },
   "file_extension": ".py",
   "mimetype": "text/x-python",
   "name": "python",
   "nbconvert_exporter": "python",
   "pygments_lexer": "ipython3",
   "version": "3.6.2"
  }
 },
 "nbformat": 4,
 "nbformat_minor": 2
}
